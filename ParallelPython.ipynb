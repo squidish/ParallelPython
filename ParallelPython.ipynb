{
 "cells": [
  {
   "cell_type": "code",
   "execution_count": 5,
   "metadata": {},
   "outputs": [],
   "source": [
    "import collections\n",
    "import concurrent.futures \n",
    "import os\n",
    "import time\n",
    "from pprint import pprint"
   ]
  },
  {
   "cell_type": "code",
   "execution_count": 6,
   "metadata": {},
   "outputs": [],
   "source": [
    "Scientist = collections.namedtuple('Scientist',[\n",
    "    'name',\n",
    "    'field',\n",
    "    'born',\n",
    "    'nobel',\n",
    "])"
   ]
  },
  {
   "cell_type": "code",
   "execution_count": 9,
   "metadata": {},
   "outputs": [],
   "source": [
    "scientists = (\n",
    "     Scientist(name= 'Ada Lovelace',field='math',born=1815,nobel=False),\n",
    "     Scientist(name= 'Emmy Noether',field='math',born=1882,nobel=False),\n",
    "     Scientist(name= 'Marie Curie',field='physics',born=1867,nobel=True),\n",
    "     Scientist(name= 'Tu Youyo',field='chemistry',born=1937,nobel=True),\n",
    "     Scientist(name= 'Ada Yonath',field='chemistry',born=1939,nobel=True),\n",
    "     Scientist(name= 'Vera Rubin',field='astonomy',born=1928,nobel=False),\n",
    "     Scientist(name= 'Sally Ride',field='physics',born=1951,nobel=False)\n",
    "    \n",
    ")"
   ]
  },
  {
   "cell_type": "code",
   "execution_count": 12,
   "metadata": {},
   "outputs": [
    {
     "name": "stdout",
     "output_type": "stream",
     "text": [
      "(Scientist(name='Ada Lovelace', field='math', born=1815, nobel=False),\n",
      " Scientist(name='Emmy Noether', field='math', born=1882, nobel=False),\n",
      " Scientist(name='Marie Curie', field='physics', born=1867, nobel=True),\n",
      " Scientist(name='Tu Youyo', field='chemistry', born=1937, nobel=True),\n",
      " Scientist(name='Ada Yonath', field='chemistry', born=1939, nobel=True),\n",
      " Scientist(name='Vera Rubin', field='astonomy', born=1928, nobel=False),\n",
      " Scientist(name='Sally Ride', field='physics', born=1951, nobel=False))\n"
     ]
    }
   ],
   "source": [
    "pprint(scientists)"
   ]
  },
  {
   "cell_type": "code",
   "execution_count": 23,
   "metadata": {},
   "outputs": [],
   "source": [
    "def transform(x):\n",
    "    print('Process ' + str({os.getpid()}) + str('working record ') + str({x.name}))\n",
    "    time.sleep(1)\n",
    "    result = {'name': x.name,'age': 2020 - x.born}\n",
    "    print('Process ' + str({os.getpid()}) + str('done processing record ') + str({x.name}))\n",
    "    return result"
   ]
  },
  {
   "cell_type": "code",
   "execution_count": 24,
   "metadata": {},
   "outputs": [
    {
     "name": "stdout",
     "output_type": "stream",
     "text": [
      "Process {28202}working record {'Ada Lovelace'}\n",
      "Process {28203}working record {'Emmy Noether'}\n",
      "Process {28204}working record {'Marie Curie'}\n",
      "Process {28205}working record {'Tu Youyo'}\n",
      "Process {28206}working record {'Ada Yonath'}\n",
      "Process {28208}working record {'Sally Ride'}\n",
      "Process {28207}working record {'Vera Rubin'}\n",
      "Process {28208}done processing record {'Sally Ride'}\n",
      "Process {28204}done processing record {'Marie Curie'}\n",
      "Process {28206}done processing record {'Ada Yonath'}\n",
      "Process {28203}done processing record {'Emmy Noether'}\n",
      "Process {28207}done processing record {'Vera Rubin'}\n",
      "Process {28202}done processing record {'Ada Lovelace'}\n",
      "Process {28205}done processing record {'Tu Youyo'}\n"
     ]
    }
   ],
   "source": [
    "start = time.time() \n",
    "with concurrent.futures.ProcessPoolExecutor() as executor:\n",
    "    result = executor.map(transform,scientists)\n",
    "end = time.time() "
   ]
  },
  {
   "cell_type": "code",
   "execution_count": 27,
   "metadata": {},
   "outputs": [
    {
     "name": "stdout",
     "output_type": "stream",
     "text": [
      "Time to complete 1583494149.1445522\n",
      "()\n"
     ]
    }
   ],
   "source": [
    "print('Time to complete ' + str(end))\n",
    "pprint(tuple(result))"
   ]
  },
  {
   "cell_type": "code",
   "execution_count": 28,
   "metadata": {},
   "outputs": [],
   "source": [
    "fs = tuple(filter(lambda x: x.nobel is True, scientists))"
   ]
  },
  {
   "cell_type": "code",
   "execution_count": 29,
   "metadata": {},
   "outputs": [
    {
     "name": "stdout",
     "output_type": "stream",
     "text": [
      "(Scientist(name='Marie Curie', field='physics', born=1867, nobel=True),\n",
      " Scientist(name='Tu Youyo', field='chemistry', born=1937, nobel=True),\n",
      " Scientist(name='Ada Yonath', field='chemistry', born=1939, nobel=True))\n"
     ]
    }
   ],
   "source": [
    "pprint(fs)"
   ]
  },
  {
   "cell_type": "code",
   "execution_count": null,
   "metadata": {},
   "outputs": [],
   "source": []
  }
 ],
 "metadata": {
  "kernelspec": {
   "display_name": "Python 3",
   "language": "python",
   "name": "python3"
  },
  "language_info": {
   "codemirror_mode": {
    "name": "ipython",
    "version": 3
   },
   "file_extension": ".py",
   "mimetype": "text/x-python",
   "name": "python",
   "nbconvert_exporter": "python",
   "pygments_lexer": "ipython3",
   "version": "3.5.2"
  }
 },
 "nbformat": 4,
 "nbformat_minor": 2
}
